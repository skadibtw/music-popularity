{
 "cells": [
  {
   "cell_type": "code",
   "execution_count": null,
   "id": "27969f49",
   "metadata": {},
   "outputs": [],
   "source": [
    "import pandas as pd "
   ]
  },
  {
   "cell_type": "markdown",
   "id": "71386d6a",
   "metadata": {},
   "source": [
    "## Загрузка данных\n",
    "\n",
    "Загружаем данные из двух источников:\n",
    "1. `charts.csv` - данные Billboard Charts\n",
    "2. `top_100_songs_1952_to_2024.xlsx` - данные UK Charts\n",
    "\n",
    "Excel файл содержит несколько листов, каждый представляет определенный временной период."
   ]
  },
  {
   "cell_type": "code",
   "execution_count": null,
   "id": "b933e58d",
   "metadata": {},
   "outputs": [],
   "source": [
    "bb = pd.read_csv(\"charts.csv\")\n",
    "uk_excel = pd.read_excel(\"top_100_songs_1952_to_2024.xlsx\", sheet_name=None)\n",
    "for name, df in uk_excel.items():\n",
    "    df[\"sheet\"] = name\n",
    "\n",
    "uk = pd.concat(uk_excel.values(), ignore_index=True)\n",
    "\n",
    "\n",
    "for name, df in {\"Billboard\": bb, \"UK\": uk}.items():\n",
    "    print(f\"\\n{name}:\")\n",
    "    display(df.head())\n",
    "    display(df.info())\n"
   ]
  },
  {
   "cell_type": "markdown",
   "id": "2bc01542",
   "metadata": {},
   "source": [
    "## Нормализация данных\n",
    "\n",
    "Приводим данные к единому формату:\n",
    "1. Унификация названий столбцов\n",
    "2. Добавление информации о стране\n",
    "3. Стандартизация форматов даты\n",
    "4. Создание уникальных идентификаторов треков"
   ]
  },
  {
   "cell_type": "code",
   "execution_count": null,
   "id": "28ee0a69",
   "metadata": {},
   "outputs": [],
   "source": [
    "bb = bb.rename(columns={\"song\": \"title\", \"artist\": \"artist\",\n",
    "                        \"date\": \"date\", \"peak-rank\": \"peak_rank\"})\n",
    "uk = uk.rename(columns={\"Song\": \"title\",\n",
    "                        \"Artist\": \"artist\", \"Week\": \"date\", \"Peak\": \"peak_rank\", \"Weeks on Chart\": \"weeks_on_chart\", \"sheet\": \"date_source\", \"Position\": \"rank\"})\n",
    "\n",
    "bb[\"country\"] = \"US\"\n",
    "uk[\"country\"] = \"UK\"\n"
   ]
  },
  {
   "cell_type": "code",
   "execution_count": null,
   "id": "fac93568",
   "metadata": {},
   "outputs": [],
   "source": [
    "for name, df in {\"Billboard\": bb, \"UK\": uk}.items():\n",
    "    print(f\"\\n{name}:\")\n",
    "    display(df.head())\n",
    "    display(df.info())"
   ]
  },
  {
   "cell_type": "code",
   "execution_count": null,
   "id": "88cf45dd",
   "metadata": {},
   "outputs": [],
   "source": [
    "bb[\"date\"] = pd.to_datetime(bb[\"date\"], format=\"%Y-%m-%d\")\n",
    "uk[\"date_str\"] = uk[\"date_source\"].astype(str).str.extract(r\"(\\d{8})\")[0]\n",
    "uk[\"date\"] = pd.to_datetime(uk[\"date_str\"], format=\"%Y%m%d\", errors=\"coerce\")\n",
    "uk.drop(columns=[\"date_str\"], inplace=True)"
   ]
  },
  {
   "cell_type": "code",
   "execution_count": null,
   "id": "c583ef20",
   "metadata": {},
   "outputs": [],
   "source": [
    "print(bb.shape, uk.shape)"
   ]
  },
  {
   "cell_type": "code",
   "execution_count": null,
   "id": "676a1707",
   "metadata": {},
   "outputs": [],
   "source": [
    "for df in (bb, uk):\n",
    "    # строки, где одновременно пустое название или исполнитель – пустота\n",
    "    df.dropna(subset=[\"title\", \"artist\"], inplace=True)\n",
    "\n",
    "    # (title, artist, date) часто уникальны: сними дубликаты\n",
    "    df.drop_duplicates(subset=[\"title\", \"artist\", \"date\"], inplace=True)"
   ]
  },
  {
   "cell_type": "code",
   "execution_count": null,
   "id": "637485a7",
   "metadata": {},
   "outputs": [],
   "source": [
    "print(bb.shape, uk.shape)"
   ]
  },
  {
   "cell_type": "code",
   "execution_count": null,
   "id": "95125688",
   "metadata": {},
   "outputs": [],
   "source": [
    "def make_id(s):\n",
    "    \"\"\"\n",
    "    Создает нормализованный идентификатор для строки текста.\n",
    "    \n",
    "    Параметры:\n",
    "    s (pandas.Series): Серия строк для нормализации\n",
    "    \n",
    "    Возвращает:\n",
    "    pandas.Series: Нормализованные строки\n",
    "    \n",
    "    Процесс нормализации:\n",
    "    1. Приведение к нижнему регистру\n",
    "    2. Удаление диакритических знаков\n",
    "    3. Удаление специальных символов\n",
    "    4. Нормализация пробелов\n",
    "    \"\"\"\n",
    "    return (s.str.lower()\n",
    "              .str.normalize(\"NFKD\")       # убираем диакритику\n",
    "              .str.replace(r\"[^\\w\\s]\", \"\", regex=True)\n",
    "              .str.replace(r\"\\s+\", \" \", regex=True)\n",
    "              .str.strip())\n",
    "\n",
    "# Создаем уникальные идентификаторы треков\n",
    "for df in (bb, uk):\n",
    "    df[\"track_id\"] = make_id(df[\"title\"]) + \" - \" + make_id(df[\"artist\"])"
   ]
  },
  {
   "cell_type": "code",
   "execution_count": null,
   "id": "63eaf49f",
   "metadata": {},
   "outputs": [],
   "source": [
    "uk[\"year\"] = uk[\"date\"].dt.year\n",
    "uk[\"week\"] = uk[\"date\"].dt.isocalendar().week\n",
    "bb[\"year\"] = bb[\"date\"].dt.year\n",
    "bb[\"week\"] = bb[\"date\"].dt.isocalendar().week"
   ]
  },
  {
   "cell_type": "code",
   "execution_count": null,
   "id": "79a520e7",
   "metadata": {},
   "outputs": [],
   "source": [
    "bb.to_parquet(\"billboard_clean.parquet\", index=False)\n",
    "uk.to_parquet(\"uk_clean.parquet\", index=False)"
   ]
  },
  {
   "cell_type": "code",
   "execution_count": null,
   "id": "16990288",
   "metadata": {},
   "outputs": [],
   "source": [
    "combined = pd.concat([bb, uk], ignore_index=True)\n",
    "\n",
    "print(\"Уникальных треков:\", combined[\"track_id\"].nunique())\n",
    "print(combined.groupby(\"country\")[\"year\"].agg([\"min\", \"max\"]))"
   ]
  },
  {
   "cell_type": "code",
   "execution_count": null,
   "id": "80fcc45a",
   "metadata": {},
   "outputs": [],
   "source": [
    "top = (combined\n",
    "       .groupby([\"track_id\", \"title\", \"artist\", \"country\", \"year\"])\n",
    "       .agg(peak_rank=(\"peak_rank\", \"min\"),\n",
    "            weeks_on_chart=(\"peak_rank\", \"count\"))\n",
    "       .reset_index())"
   ]
  },
  {
   "cell_type": "code",
   "execution_count": null,
   "id": "6ad7ff49",
   "metadata": {},
   "outputs": [],
   "source": [
    "songs = (combined[[\"track_id\", \"title\", \"artist\"]]\n",
    "         .drop_duplicates()\n",
    "         .reset_index(drop=True))\n",
    "songs.to_csv(\"songs_for_spotify.csv\", index=False)"
   ]
  }
 ],
 "metadata": {
  "language_info": {
   "name": "python"
  }
 },
 "nbformat": 4,
 "nbformat_minor": 5
}
